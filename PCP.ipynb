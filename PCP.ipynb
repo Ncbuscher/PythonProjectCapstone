{
 "cells": [
  {
   "cell_type": "markdown",
   "id": "d746c11b",
   "metadata": {},
   "source": [
    "# This notebook is meant for the Applied Data Science Capstone\n"
   ]
  },
  {
   "cell_type": "markdown",
   "id": "84d7f25a",
   "metadata": {},
   "source": [
    "## By Noah Buscher"
   ]
  },
  {
   "cell_type": "code",
   "execution_count": 2,
   "id": "4419c273",
   "metadata": {},
   "outputs": [
    {
     "name": "stdout",
     "output_type": "stream",
     "text": [
      "Hello Capstone Project Course!\n"
     ]
    }
   ],
   "source": [
    "import pandas as pd\n",
    "import numpy as np\n",
    "print('Hello Capstone Project Course!')"
   ]
  },
  {
   "cell_type": "code",
   "execution_count": null,
   "id": "4360051a",
   "metadata": {},
   "outputs": [],
   "source": []
  }
 ],
 "metadata": {
  "kernelspec": {
   "display_name": "Python 3",
   "language": "python",
   "name": "python3"
  },
  "language_info": {
   "codemirror_mode": {
    "name": "ipython",
    "version": 3
   },
   "file_extension": ".py",
   "mimetype": "text/x-python",
   "name": "python",
   "nbconvert_exporter": "python",
   "pygments_lexer": "ipython3",
   "version": "3.8.8"
  }
 },
 "nbformat": 4,
 "nbformat_minor": 5
}
